{
 "cells": [
  {
   "cell_type": "markdown",
   "metadata": {},
   "source": [
    "# 1. Generating a SHACL shape from a list of mandatory properties"
   ]
  },
  {
   "cell_type": "code",
   "execution_count": 73,
   "metadata": {},
   "outputs": [
    {
     "name": "stdout",
     "output_type": "stream",
     "text": [
      "\n",
      "@prefix dash: <http://datashapes.org/dash#> .\n",
      "@prefix rdf: <http://www.w3.org/1999/02/22-rdf-syntax-ns#> .\n",
      "@prefix rdfs: <http://www.w3.org/2000/01/rdf-schema#> .\n",
      "@prefix schema: <http://schema.org/> .\n",
      "@prefix sh: <http://www.w3.org/ns/shacl#> .\n",
      "@prefix xsd: <http://www.w3.org/2001/XMLSchema#> .\n",
      "@prefix edam: <http://edamontology.org/> .\n",
      "\n",
      "schema:ToolShape\n",
      "    a sh:NodeShape ;\n",
      "    sh:targetClass schema:SoftwareApplication ;\n",
      "    \n",
      "    \n",
      "    sh:property [\n",
      "        sh:path schema:featureList ;\n",
      "        sh:minCount 1 ;\n",
      "    ] ;\n",
      "    \n",
      "    sh:property [\n",
      "        sh:path schema:applicationSubCategory ;\n",
      "        sh:minCount 1 ;\n",
      "    ] ;\n",
      "    \n",
      "    sh:property [\n",
      "        sh:path edam:has_input ;\n",
      "        sh:minCount 1 ;\n",
      "    ] ;\n",
      "    \n",
      "    sh:property [\n",
      "        sh:path edam:has_output ;\n",
      "        sh:minCount 1 ;\n",
      "    ] ;\n",
      "    \n",
      "    .\n",
      "14\n"
     ]
    },
    {
     "data": {
      "text/plain": [
       "<Figure size 2160x720 with 0 Axes>"
      ]
     },
     "metadata": {},
     "output_type": "display_data"
    }
   ],
   "source": [
    "from jinja2 import Template\n",
    "import seaborn as sns \n",
    "import matplotlib.pyplot as plt\n",
    "\n",
    "%matplotlib inline\n",
    "\n",
    "mandatory_properties = ['schema:featureList', \n",
    "                        'schema:applicationSubCategory', \n",
    "                        'edam:has_input', \n",
    "                        'edam:has_output']\n",
    "\n",
    "shape_template = \"\"\"\n",
    "@prefix dash: <http://datashapes.org/dash#> .\n",
    "@prefix rdf: <http://www.w3.org/1999/02/22-rdf-syntax-ns#> .\n",
    "@prefix rdfs: <http://www.w3.org/2000/01/rdf-schema#> .\n",
    "@prefix schema: <http://schema.org/> .\n",
    "@prefix sh: <http://www.w3.org/ns/shacl#> .\n",
    "@prefix xsd: <http://www.w3.org/2001/XMLSchema#> .\n",
    "@prefix edam: <http://edamontology.org/> .\n",
    "\n",
    "schema:ToolShape\n",
    "    a sh:NodeShape ;\n",
    "    sh:targetClass schema:SoftwareApplication ;\n",
    "    \n",
    "    {% for prop_name in properties %}\n",
    "    sh:property [\n",
    "        sh:path {{prop_name}} ;\n",
    "        sh:minCount 1 ;\n",
    "    ] ;\n",
    "    {% endfor %}\n",
    "    .\n",
    "\"\"\"\n",
    "\n",
    "template = Template(shape_template)\n",
    "shape = template.render(properties=mandatory_properties)\n",
    "print(shape)\n",
    "g = ConjunctiveGraph()\n",
    "g.parse(data = shape, format='turtle')\n",
    "print(len(g))"
   ]
  },
  {
   "cell_type": "markdown",
   "metadata": {},
   "source": [
    "# 2. Defining test data to be validated"
   ]
  },
  {
   "cell_type": "code",
   "execution_count": null,
   "metadata": {},
   "outputs": [],
   "source": [
    "manual_shape_constraint = \"\"\"\n",
    "@prefix dash: <http://datashapes.org/dash#> .\n",
    "@prefix rdf: <http://www.w3.org/1999/02/22-rdf-syntax-ns#> .\n",
    "@prefix rdfs: <http://www.w3.org/2000/01/rdf-schema#> .\n",
    "@prefix schema: <http://schema.org/> .\n",
    "@prefix sh: <http://www.w3.org/ns/shacl#> .\n",
    "@prefix xsd: <http://www.w3.org/2001/XMLSchema#> .\n",
    "\n",
    "schema:ToolShape\n",
    "    a sh:NodeShape ;\n",
    "    sh:targetClass schema:SoftwareApplication ;\n",
    "    sh:property [\n",
    "        sh:path schema:featureList ;\n",
    "        sh:minCount 1 ;\n",
    "    ] ;\n",
    "    sh:property [\n",
    "        sh:path schema:applicationSubCategory ;\n",
    "        sh:minCount 1 ;\n",
    "    ] .\n",
    "\"\"\"\n",
    "\n",
    "data = \"\"\"\n",
    "@prefix biotools: <https://bio.tools/ontology/> .\n",
    "@prefix bsc: <http://bioschemas.org/> .\n",
    "@prefix dc: <http://purl.org/dc/terms/> .\n",
    "@prefix doi: <https://doi.org/> .\n",
    "@prefix edam: <http://edamontology.org/> .\n",
    "@prefix pmc: <https://www.ncbi.nlm.nih.gov/pmc/> .\n",
    "@prefix pubmed: <https://www.ncbi.nlm.nih.gov/pubmed/> .\n",
    "@prefix rdf: <http://www.w3.org/1999/02/22-rdf-syntax-ns#> .\n",
    "@prefix rdfs: <http://www.w3.org/2000/01/rdf-schema#> .\n",
    "@prefix sc: <http://schema.org/> .\n",
    "@prefix xml: <http://www.w3.org/XML/1998/namespace> .\n",
    "@prefix xsd: <http://www.w3.org/2001/XMLSchema#> .\n",
    "\n",
    "\n",
    "<https://bio.tools/PyBDA> a sc:SoftwareApplication ;\n",
    "    sc:additionalType \"Command-line tool\" ;\n",
    "    sc:applicationSubCategory edam:topic_3391 ;\n",
    "    sc:citation <https://doi.org/10.1186/s12859-019-3087-8> ;\n",
    "    sc:description \"A command-line tool for analysis of big biological data sets for distributed HPC clusters.\" ;\n",
    "    sc:featureList edam:operation_2939,\n",
    "        edam:operation_2945,\n",
    "        edam:operation_3432,\n",
    "        edam:operation_3659 ;\n",
    "    sc:license \"GPL-3.0\" ;\n",
    "    sc:name \"PyBDA\" ;\n",
    "    sc:url \"https://pybda.readthedocs.io/en/latest/#\" .\n",
    "\"\"\""
   ]
  },
  {
   "cell_type": "markdown",
   "metadata": {},
   "source": [
    "# 3. Validating the shape on the graph data"
   ]
  },
  {
   "cell_type": "code",
   "execution_count": null,
   "metadata": {},
   "outputs": [],
   "source": [
    "from pyshacl import validate\n",
    "from IPython.display import display, Markdown, Latex\n",
    "\n",
    "r = validate(data_graph = data, \n",
    "             data_graph_format='turtle', \n",
    "             shacl_graph = shape, \n",
    "             shacl_graph_format = 'turtle', \n",
    "             ont_graph = None, \n",
    "             inference = 'rdfs', \n",
    "             abort_on_error = False, \n",
    "             meta_shacl = False, \n",
    "             debug = True)\n",
    "\n",
    "conforms, results_graph, results_text = r\n",
    "\n",
    "if not conforms:\n",
    "    print(results_graph.serialize(format='turtle').decode())\n",
    "else:\n",
    "    print('Everything is fine')"
   ]
  },
  {
   "cell_type": "markdown",
   "metadata": {},
   "source": [
    "# 4. Producing an explaination for the validation graph"
   ]
  },
  {
   "cell_type": "code",
   "execution_count": null,
   "metadata": {},
   "outputs": [],
   "source": [
    "report_query = \"\"\"\n",
    "    SELECT ?node ?path WHERE {\n",
    "        ?v rdf:type sh:ValidationReport ;\n",
    "           sh:result ?r .\n",
    "        ?r sh:focusNode ?node ;\n",
    "           sh:sourceShape ?s .\n",
    "        ?s sh:path ?path .   \n",
    "    }\n",
    "\"\"\"\n",
    "\n",
    "results = results_graph.query(report_query)\n",
    "for r in results :\n",
    "    display(Markdown('The tool `{}` should be fixed, it is missing information for field {}'.format(str(r['node']), str(r['path']))))\n",
    "    #display(Markdown(' **It was produced in the context of** ' + str(r['st']) ))"
   ]
  },
  {
   "cell_type": "markdown",
   "metadata": {},
   "source": [
    "# 5. Launching the validation on a large dataset .."
   ]
  },
  {
   "cell_type": "code",
   "execution_count": null,
   "metadata": {},
   "outputs": [],
   "source": [
    "r = validate(data_graph = 'biotools.bioschema.ttl', \n",
    "             data_graph_format='turtle', \n",
    "             shacl_graph = shape, \n",
    "             shacl_graph_format = 'turtle', \n",
    "             ont_graph = None, \n",
    "             inference = 'rdfs', \n",
    "             abort_on_error = False, \n",
    "             meta_shacl = False, \n",
    "             debug = True)\n",
    "\n",
    "conforms, results_graph, results_text = r\n",
    "\n",
    "results = results_graph.query(report_query)\n",
    "for r in results :\n",
    "    display(Markdown('The tool {} should be fixed, it is missing information for field {}'.format(str(r['node']), str(r['path']))))"
   ]
  },
  {
   "cell_type": "markdown",
   "metadata": {},
   "source": [
    "# 6. Basic statistics"
   ]
  },
  {
   "cell_type": "code",
   "execution_count": 10,
   "metadata": {},
   "outputs": [
    {
     "name": "stdout",
     "output_type": "stream",
     "text": [
      "195535\n",
      "CPU times: user 12.3 s, sys: 272 ms, total: 12.6 s\n",
      "Wall time: 13 s\n"
     ]
    }
   ],
   "source": [
    "%%time\n",
    "import pandas as pd\n",
    "from rdflib import ConjunctiveGraph\n",
    "\n",
    "g_dump = ConjunctiveGraph()\n",
    "g_dump.parse(\"./biotools.bioschema.ttl\", format='turtle')\n",
    "print(len(g_dump))"
   ]
  },
  {
   "cell_type": "code",
   "execution_count": null,
   "metadata": {},
   "outputs": [],
   "source": [
    "%%time\n",
    "count_query = \"\"\"\n",
    "    SELECT (COUNT(DISTINCT ?node) AS ?to_be_fixed_entries) WHERE {\n",
    "        ?v rdf:type sh:ValidationReport ;\n",
    "           sh:result ?r .\n",
    "        ?r sh:focusNode ?node ;\n",
    "           sh:sourceShape ?s .\n",
    "        ?s sh:path ?path .   \n",
    "    }\n",
    "\"\"\"\n",
    "\n",
    "results = results_graph.query(count_query)\n",
    "for r in results :\n",
    "    display(Markdown('**{}** tools should be fixed.'.format(str(r['to_be_fixed_entries']))))\n",
    "\n"
   ]
  },
  {
   "cell_type": "code",
   "execution_count": null,
   "metadata": {},
   "outputs": [],
   "source": [
    "#%%time \n",
    "ns = {\n",
    "    \"nb\": \"http://bise-eu.info/core-ontology#\",\n",
    "    \"dc\": \"http://dcterms/\",\n",
    "    \"p-plan\": \"http://purl.org/net/p-plan#\",\n",
    "    \"edam\": \"http://purl.obolibrary.org/obo/edam#\", \n",
    "    \"sh\": \"http://www.w3.org/ns/shacl#\", \n",
    "    \"schema\": \"http://schema.org/\"\n",
    "}\n",
    "\n",
    "query = \"\"\"\n",
    "    SELECT (COUNT(distinct ?version) AS ?count_version ) { \n",
    "        ?version schema:version ?v .\n",
    "        ?out edam:has_output ?o .\n",
    "        ?in edam:has_input ?i .\n",
    "        ?license schema:license ?l .\n",
    "        ?url schema:url ?u .\n",
    "        ?description schema:description ?d .\n",
    "        ?name schema:name ?n .\n",
    "        ?addType schema:additionalType ?a .\n",
    "        ?citation schema:citation ?ci .\n",
    "        ?featureList schema:featureList ?f .\n",
    "        ?applicationSubCategory schema:applicationSubCategory ?s .\n",
    "        ?funder schema:funder ?fu .\n",
    "        ?provider schema:provider ?p .\n",
    "        ?contributor schema:contributor ?co .\n",
    "        ?author schema:author ?au .      \n",
    "    } \n",
    "\"\"\"\n",
    "\n",
    "\n",
    "count_query = \"\"\"\n",
    "    SELECT  ?p (COUNT(distinct ?s) AS ?count ) { \n",
    "        ?s ?p ?o\n",
    "    } GROUP BY ?p ORDER BY ?count\n",
    "\"\"\"\n",
    "\n",
    "\n",
    "res_data = []\n",
    "results = g_dump.query(query, initNs=ns)\n",
    "for r in results:\n",
    "    res_data.append({'Property':str(r['p']),'Count':str(r['count'])})   \n",
    "#print(list_of_topics)\n",
    "\n",
    "df = pd.DataFrame(res_data)\n",
    "df"
   ]
  },
  {
   "cell_type": "code",
   "execution_count": 4,
   "metadata": {},
   "outputs": [],
   "source": [
    "#!java -server -Xmx4g -jar \"/Users/gaignard-a/Downloads/blazegraph.jar\" \n",
    "\n",
    "#!curl -X POST http://localhost:9999/bigdata/sparql --data-urlencode 'update=DROP ALL; LOAD <file:///Users/gaignard-a/Documents/Dev/biotoolsShim/json2rdf/biotools.bioschema.ttl>'"
   ]
  },
  {
   "cell_type": "code",
   "execution_count": 51,
   "metadata": {},
   "outputs": [],
   "source": [
    "from jinja2 import Template\n",
    "\n",
    "ns = {\n",
    "    \"nb\": \"http://bise-eu.info/core-ontology#\",\n",
    "    \"dc\": \"http://dcterms/\",\n",
    "    \"p-plan\": \"http://purl.org/net/p-plan#\",\n",
    "    \"edam\": \"http://purl.obolibrary.org/obo/edam#\", \n",
    "    \"sh\": \"http://www.w3.org/ns/shacl#\", \n",
    "    \"schema\": \"http://schema.org/\"\n",
    "}\n",
    "\n",
    "properties = [ \n",
    "'schema:version', \n",
    "'edam:has_output', \n",
    "'edam:has_input', \n",
    "'schema:license', \n",
    "'schema:url', \n",
    "'schema:description', \n",
    "'schema:name', \n",
    "'schema:additionalType', \n",
    "'schema:citation', \n",
    "'schema:featureList', \n",
    "'schema:applicationSubCategory', \n",
    "'schema:funder', \n",
    "'schema:provider', \n",
    "'schema:contributor', \n",
    "'schema:author', \n",
    "]\n",
    "\n",
    "query_template = \"\"\"\n",
    "PREFIX edam: <http://edamontology.org/>\n",
    "PREFIX schema: <http://schema.org/>\n",
    "\n",
    "SELECT \n",
    "(COUNT(distinct ?tool) AS ?count_tools )\n",
    "    { \n",
    "        ?tool {{prop}} ?p_value .\n",
    "    } \n",
    "\"\"\"\n",
    "res_data = []\n",
    "\n",
    "for p in properties:\n",
    "    template = Template(query_template)\n",
    "    query = template.render(prop=p)\n",
    "    #print(query)\n",
    "\n",
    "    results = g_dump.query(query, initNs=ns)\n",
    "    for r in results:\n",
    "        res_data.append({'Property':p,'Numbers of tools':str(r['count_tools'])})   \n",
    "        \n",
    "df = pd.DataFrame(res_data)\n",
    "df['Numbers of tools']=df['Numbers of tools'].astype('int')\n"
   ]
  },
  {
   "cell_type": "code",
   "execution_count": 52,
   "metadata": {},
   "outputs": [],
   "source": [
    "nb_tools = df.loc[df['Property'] == 'schema:name'].values[0][0]"
   ]
  },
  {
   "cell_type": "code",
   "execution_count": 58,
   "metadata": {},
   "outputs": [],
   "source": [
    "df['Percentage']=df['Numbers of tools']*100/nb_tools\n",
    "df = df.sort_values(by=['Percentage'], ascending=False)"
   ]
  },
  {
   "cell_type": "code",
   "execution_count": 82,
   "metadata": {},
   "outputs": [
    {
     "data": {
      "text/plain": [
       "[Text(0, 0, 'schema:url'),\n",
       " Text(0, 0, 'schema:description'),\n",
       " Text(0, 0, 'schema:name'),\n",
       " Text(0, 0, 'schema:applicationSubCategory'),\n",
       " Text(0, 0, 'schema:featureList'),\n",
       " Text(0, 0, 'schema:citation'),\n",
       " Text(0, 0, 'schema:additionalType'),\n",
       " Text(0, 0, 'schema:license'),\n",
       " Text(0, 0, 'schema:version'),\n",
       " Text(0, 0, 'edam:has_input'),\n",
       " Text(0, 0, 'edam:has_output'),\n",
       " Text(0, 0, 'schema:provider'),\n",
       " Text(0, 0, 'schema:author'),\n",
       " Text(0, 0, 'schema:contributor'),\n",
       " Text(0, 0, 'schema:funder')]"
      ]
     },
     "execution_count": 82,
     "metadata": {},
     "output_type": "execute_result"
    },
    {
     "data": {
      "image/png": "[encoded data removed]",
      "text/plain": [
       "<Figure size 1152x720 with 1 Axes>"
      ]
     },
     "metadata": {
      "needs_background": "light"
     },
     "output_type": "display_data"
    }
   ],
   "source": [
    "plt.figure(figsize=(16, 10))\n",
    "chart = sns.barplot(x=df['Property'], y=df['Percentage'], palette=\"rocket\")\n",
    "chart.set_xticklabels(chart.get_xticklabels(), rotation=80, size=20)"
   ]
  },
  {
   "cell_type": "code",
   "execution_count": null,
   "metadata": {},
   "outputs": [],
   "source": []
  }
 ],
 "metadata": {
  "kernelspec": {
   "display_name": "Python 3",
   "language": "python",
   "name": "python3"
  },
  "language_info": {
   "codemirror_mode": {
    "name": "ipython",
    "version": 3
   },
   "file_extension": ".py",
   "mimetype": "text/x-python",
   "name": "python",
   "nbconvert_exporter": "python",
   "pygments_lexer": "ipython3",
   "version": "3.6.7"
  }
 },
 "nbformat": 4,
 "nbformat_minor": 2
}
