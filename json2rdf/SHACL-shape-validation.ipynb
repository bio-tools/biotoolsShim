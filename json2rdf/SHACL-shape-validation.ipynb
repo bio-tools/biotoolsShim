{
 "cells": [
  {
   "cell_type": "markdown",
   "metadata": {},
   "source": [
    "# 1. Generating a SHACL shape from a list of mandatory properties"
   ]
  },
  {
   "cell_type": "code",
   "execution_count": null,
   "metadata": {},
   "outputs": [],
   "source": [
    "from jinja2 import Template\n",
    "\n",
    "mandatory_properties = ['schema:featureList', \n",
    "                        'schema:applicationSubCategory', \n",
    "                        'edam:has_input', \n",
    "                        'edam:has_output']\n",
    "\n",
    "shape_template = \"\"\"\n",
    "@prefix dash: <http://datashapes.org/dash#> .\n",
    "@prefix rdf: <http://www.w3.org/1999/02/22-rdf-syntax-ns#> .\n",
    "@prefix rdfs: <http://www.w3.org/2000/01/rdf-schema#> .\n",
    "@prefix schema: <http://schema.org/> .\n",
    "@prefix sh: <http://www.w3.org/ns/shacl#> .\n",
    "@prefix xsd: <http://www.w3.org/2001/XMLSchema#> .\n",
    "@prefix edam: <http://edamontology.org/> .\n",
    "\n",
    "schema:ToolShape\n",
    "    a sh:NodeShape ;\n",
    "    sh:targetClass schema:SoftwareApplication ;\n",
    "    \n",
    "    {% for prop_name in properties %}\n",
    "    sh:property [\n",
    "        sh:path {{prop_name}} ;\n",
    "        sh:minCount 1 ;\n",
    "    ] ;\n",
    "    {% endfor %}\n",
    "    .\n",
    "\"\"\"\n",
    "\n",
    "template = Template(shape_template)\n",
    "shape = template.render(properties=mandatory_properties)\n",
    "print(shape)\n",
    "g = ConjunctiveGraph()\n",
    "g.parse(data = shape, format='turtle')\n",
    "print(len(g))"
   ]
  },
  {
   "cell_type": "markdown",
   "metadata": {},
   "source": [
    "# 2. Defining test data to be validated"
   ]
  },
  {
   "cell_type": "code",
   "execution_count": null,
   "metadata": {},
   "outputs": [],
   "source": [
    "manual_shape_constraint = \"\"\"\n",
    "@prefix dash: <http://datashapes.org/dash#> .\n",
    "@prefix rdf: <http://www.w3.org/1999/02/22-rdf-syntax-ns#> .\n",
    "@prefix rdfs: <http://www.w3.org/2000/01/rdf-schema#> .\n",
    "@prefix schema: <http://schema.org/> .\n",
    "@prefix sh: <http://www.w3.org/ns/shacl#> .\n",
    "@prefix xsd: <http://www.w3.org/2001/XMLSchema#> .\n",
    "\n",
    "schema:ToolShape\n",
    "    a sh:NodeShape ;\n",
    "    sh:targetClass schema:SoftwareApplication ;\n",
    "    sh:property [\n",
    "        sh:path schema:featureList ;\n",
    "        sh:minCount 1 ;\n",
    "    ] ;\n",
    "    sh:property [\n",
    "        sh:path schema:applicationSubCategory ;\n",
    "        sh:minCount 1 ;\n",
    "    ] .\n",
    "\"\"\"\n",
    "\n",
    "data = \"\"\"\n",
    "@prefix biotools: <https://bio.tools/ontology/> .\n",
    "@prefix bsc: <http://bioschemas.org/> .\n",
    "@prefix dc: <http://purl.org/dc/terms/> .\n",
    "@prefix doi: <https://doi.org/> .\n",
    "@prefix edam: <http://edamontology.org/> .\n",
    "@prefix pmc: <https://www.ncbi.nlm.nih.gov/pmc/> .\n",
    "@prefix pubmed: <https://www.ncbi.nlm.nih.gov/pubmed/> .\n",
    "@prefix rdf: <http://www.w3.org/1999/02/22-rdf-syntax-ns#> .\n",
    "@prefix rdfs: <http://www.w3.org/2000/01/rdf-schema#> .\n",
    "@prefix sc: <http://schema.org/> .\n",
    "@prefix xml: <http://www.w3.org/XML/1998/namespace> .\n",
    "@prefix xsd: <http://www.w3.org/2001/XMLSchema#> .\n",
    "\n",
    "\n",
    "<https://bio.tools/PyBDA> a sc:SoftwareApplication ;\n",
    "    sc:additionalType \"Command-line tool\" ;\n",
    "    sc:applicationSubCategory edam:topic_3391 ;\n",
    "    sc:citation <https://doi.org/10.1186/s12859-019-3087-8> ;\n",
    "    sc:description \"A command-line tool for analysis of big biological data sets for distributed HPC clusters.\" ;\n",
    "    sc:featureList edam:operation_2939,\n",
    "        edam:operation_2945,\n",
    "        edam:operation_3432,\n",
    "        edam:operation_3659 ;\n",
    "    sc:license \"GPL-3.0\" ;\n",
    "    sc:name \"PyBDA\" ;\n",
    "    sc:url \"https://pybda.readthedocs.io/en/latest/#\" .\n",
    "\"\"\""
   ]
  },
  {
   "cell_type": "markdown",
   "metadata": {},
   "source": [
    "# 3. Validating the shape on the graph data"
   ]
  },
  {
   "cell_type": "code",
   "execution_count": null,
   "metadata": {},
   "outputs": [],
   "source": [
    "from pyshacl import validate\n",
    "from IPython.display import display, Markdown, Latex\n",
    "\n",
    "r = validate(data_graph = data, \n",
    "             data_graph_format='turtle', \n",
    "             shacl_graph = shape, \n",
    "             shacl_graph_format = 'turtle', \n",
    "             ont_graph = None, \n",
    "             inference = 'rdfs', \n",
    "             abort_on_error = False, \n",
    "             meta_shacl = False, \n",
    "             debug = True)\n",
    "\n",
    "conforms, results_graph, results_text = r\n",
    "\n",
    "if not conforms:\n",
    "    print(results_graph.serialize(format='turtle').decode())\n",
    "else:\n",
    "    print('Everything is fine')"
   ]
  },
  {
   "cell_type": "markdown",
   "metadata": {},
   "source": [
    "# 4. Producing an explaination for the validation graph"
   ]
  },
  {
   "cell_type": "code",
   "execution_count": null,
   "metadata": {},
   "outputs": [],
   "source": [
    "report_query = \"\"\"\n",
    "    SELECT ?node ?path WHERE {\n",
    "        ?v rdf:type sh:ValidationReport ;\n",
    "           sh:result ?r .\n",
    "        ?r sh:focusNode ?node ;\n",
    "           sh:sourceShape ?s .\n",
    "        ?s sh:path ?path .   \n",
    "    }\n",
    "\"\"\"\n",
    "\n",
    "results = results_graph.query(report_query)\n",
    "for r in results :\n",
    "    display(Markdown('The tool `{}` should be fixed, it is missing information for field {}'.format(str(r['node']), str(r['path']))))\n",
    "    #display(Markdown(' **It was produced in the context of** ' + str(r['st']) ))"
   ]
  },
  {
   "cell_type": "markdown",
   "metadata": {},
   "source": [
    "# 5. Launching the validation on a large dataset .."
   ]
  },
  {
   "cell_type": "code",
   "execution_count": null,
   "metadata": {},
   "outputs": [],
   "source": [
    "r = validate(data_graph = 'biotools.bioschema.ttl', \n",
    "             data_graph_format='turtle', \n",
    "             shacl_graph = shape, \n",
    "             shacl_graph_format = 'turtle', \n",
    "             ont_graph = None, \n",
    "             inference = 'rdfs', \n",
    "             abort_on_error = False, \n",
    "             meta_shacl = False, \n",
    "             debug = True)\n",
    "\n",
    "conforms, results_graph, results_text = r\n",
    "\n",
    "results = results_graph.query(report_query)\n",
    "for r in results :\n",
    "    display(Markdown('The tool {} should be fixed, it is missing information for field {}'.format(str(r['node']), str(r['path']))))"
   ]
  },
  {
   "cell_type": "markdown",
   "metadata": {},
   "source": [
    "# 6. Basic statistics"
   ]
  },
  {
   "cell_type": "code",
   "execution_count": 3,
   "metadata": {},
   "outputs": [
    {
     "name": "stdout",
     "output_type": "stream",
     "text": [
      "205719\n",
      "CPU times: user 12.9 s, sys: 71.8 ms, total: 13 s\n",
      "Wall time: 13 s\n"
     ]
    }
   ],
   "source": [
    "%%time\n",
    "import pandas as pd\n",
    "from rdflib import ConjunctiveGraph\n",
    "\n",
    "g_dump = ConjunctiveGraph()\n",
    "g_dump.parse(\"./biotools.bioschema.ttl\", format='turtle')\n",
    "print(len(g_dump))"
   ]
  },
  {
   "cell_type": "code",
   "execution_count": null,
   "metadata": {},
   "outputs": [],
   "source": [
    "%%time\n",
    "count_query = \"\"\"\n",
    "    SELECT (COUNT(DISTINCT ?node) AS ?to_be_fixed_entries) WHERE {\n",
    "        ?v rdf:type sh:ValidationReport ;\n",
    "           sh:result ?r .\n",
    "        ?r sh:focusNode ?node ;\n",
    "           sh:sourceShape ?s .\n",
    "        ?s sh:path ?path .   \n",
    "    }\n",
    "\"\"\"\n",
    "\n",
    "results = results_graph.query(count_query)\n",
    "for r in results :\n",
    "    display(Markdown('**{}** tools should be fixed.'.format(str(r['to_be_fixed_entries']))))\n",
    "\n"
   ]
  },
  {
   "cell_type": "code",
   "execution_count": 7,
   "metadata": {},
   "outputs": [
    {
     "data": {
      "text/html": [
       "<div>\n",
       "<style scoped>\n",
       "    .dataframe tbody tr th:only-of-type {\n",
       "        vertical-align: middle;\n",
       "    }\n",
       "\n",
       "    .dataframe tbody tr th {\n",
       "        vertical-align: top;\n",
       "    }\n",
       "\n",
       "    .dataframe thead th {\n",
       "        text-align: right;\n",
       "    }\n",
       "</style>\n",
       "<table border=\"1\" class=\"dataframe\">\n",
       "  <thead>\n",
       "    <tr style=\"text-align: right;\">\n",
       "      <th></th>\n",
       "      <th>Count</th>\n",
       "      <th>Property</th>\n",
       "    </tr>\n",
       "  </thead>\n",
       "  <tbody>\n",
       "    <tr>\n",
       "      <th>0</th>\n",
       "      <td>3343</td>\n",
       "      <td>http://edamontology.org/has_output</td>\n",
       "    </tr>\n",
       "    <tr>\n",
       "      <th>1</th>\n",
       "      <td>3493</td>\n",
       "      <td>http://edamontology.org/has_input</td>\n",
       "    </tr>\n",
       "    <tr>\n",
       "      <th>2</th>\n",
       "      <td>4806</td>\n",
       "      <td>http://schema.org/version</td>\n",
       "    </tr>\n",
       "    <tr>\n",
       "      <th>3</th>\n",
       "      <td>5270</td>\n",
       "      <td>http://schema.org/license</td>\n",
       "    </tr>\n",
       "    <tr>\n",
       "      <th>4</th>\n",
       "      <td>14767</td>\n",
       "      <td>http://schema.org/url</td>\n",
       "    </tr>\n",
       "    <tr>\n",
       "      <th>5</th>\n",
       "      <td>14767</td>\n",
       "      <td>http://schema.org/description</td>\n",
       "    </tr>\n",
       "    <tr>\n",
       "      <th>6</th>\n",
       "      <td>14767</td>\n",
       "      <td>http://schema.org/name</td>\n",
       "    </tr>\n",
       "    <tr>\n",
       "      <th>7</th>\n",
       "      <td>15877</td>\n",
       "      <td>http://schema.org/additionalType</td>\n",
       "    </tr>\n",
       "    <tr>\n",
       "      <th>8</th>\n",
       "      <td>16000</td>\n",
       "      <td>http://schema.org/author</td>\n",
       "    </tr>\n",
       "    <tr>\n",
       "      <th>9</th>\n",
       "      <td>22460</td>\n",
       "      <td>http://schema.org/citation</td>\n",
       "    </tr>\n",
       "    <tr>\n",
       "      <th>10</th>\n",
       "      <td>23044</td>\n",
       "      <td>http://www.w3.org/1999/02/22-rdf-syntax-ns#type</td>\n",
       "    </tr>\n",
       "    <tr>\n",
       "      <th>11</th>\n",
       "      <td>27807</td>\n",
       "      <td>http://schema.org/featureList</td>\n",
       "    </tr>\n",
       "    <tr>\n",
       "      <th>12</th>\n",
       "      <td>39318</td>\n",
       "      <td>http://schema.org/applicationSubCategory</td>\n",
       "    </tr>\n",
       "  </tbody>\n",
       "</table>\n",
       "</div>"
      ],
      "text/plain": [
       "    Count                                         Property\n",
       "0    3343               http://edamontology.org/has_output\n",
       "1    3493                http://edamontology.org/has_input\n",
       "2    4806                        http://schema.org/version\n",
       "3    5270                        http://schema.org/license\n",
       "4   14767                            http://schema.org/url\n",
       "5   14767                    http://schema.org/description\n",
       "6   14767                           http://schema.org/name\n",
       "7   15877                 http://schema.org/additionalType\n",
       "8   16000                         http://schema.org/author\n",
       "9   22460                       http://schema.org/citation\n",
       "10  23044  http://www.w3.org/1999/02/22-rdf-syntax-ns#type\n",
       "11  27807                    http://schema.org/featureList\n",
       "12  39318         http://schema.org/applicationSubCategory"
      ]
     },
     "execution_count": 7,
     "metadata": {},
     "output_type": "execute_result"
    }
   ],
   "source": [
    "#%%time \n",
    "ns = {\"nb\": \"http://bise-eu.info/core-ontology#\",\n",
    "      \"dc\": \"http://dcterms/\",\n",
    "      \"p-plan\": \"http://purl.org/net/p-plan#\",\n",
    "      \"edam\": \"http://purl.obolibrary.org/obo/edam#\", \n",
    "      \"sh\": \"http://www.w3.org/ns/shacl#\"}\n",
    "\n",
    "count_query = \"\"\"\n",
    "    SELECT  ?p (COUNT(?s) AS ?count ) { ?s ?p ?o } GROUP BY ?p ORDER BY ?count\n",
    "\"\"\"\n",
    "\n",
    "\n",
    "res_data = []\n",
    "results = g_dump.query(count_query, initNs=ns)\n",
    "for r in results:\n",
    "    res_data.append({'Property':str(r['p']),'Count':str(r['count'])})   \n",
    "#print(list_of_topics)\n",
    "\n",
    "df = pd.DataFrame(res_data)\n",
    "df"
   ]
  },
  {
   "cell_type": "code",
   "execution_count": null,
   "metadata": {},
   "outputs": [],
   "source": []
  }
 ],
 "metadata": {
  "kernelspec": {
   "display_name": "Python 3",
   "language": "python",
   "name": "python3"
  },
  "language_info": {
   "codemirror_mode": {
    "name": "ipython",
    "version": 3
   },
   "file_extension": ".py",
   "mimetype": "text/x-python",
   "name": "python",
   "nbconvert_exporter": "python",
   "pygments_lexer": "ipython3",
   "version": "3.6.7"
  }
 },
 "nbformat": 4,
 "nbformat_minor": 2
}
